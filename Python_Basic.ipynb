{
  "nbformat": 4,
  "nbformat_minor": 0,
  "metadata": {
    "colab": {
      "provenance": []
    },
    "kernelspec": {
      "name": "python3",
      "display_name": "Python 3"
    },
    "language_info": {
      "name": "python"
    }
  },
  "cells": [
    {
      "cell_type": "markdown",
      "source": [
        "#Practical Questions"
      ],
      "metadata": {
        "id": "-1VmHQRK6dUg"
      }
    },
    {
      "cell_type": "code",
      "execution_count": null,
      "metadata": {
        "id": "oFdffxYjpvRW"
      },
      "outputs": [],
      "source": [
        "Write a Python program to print \"Hello, World!y"
      ]
    },
    {
      "cell_type": "code",
      "source": [
        "print(\"Hello, World!\")\n"
      ],
      "metadata": {
        "id": "mM4fdDXw6NxA"
      },
      "execution_count": null,
      "outputs": []
    },
    {
      "cell_type": "code",
      "source": [
        "Write a Python program that displays your name and age\n",
        "name = \"Shreya\"\n",
        "age = 26\n",
        "\n",
        "print(\"My name is\", name)\n",
        "print(\"I am\", age, \"years old.\")"
      ],
      "metadata": {
        "id": "OaL8zTAS6YPd"
      },
      "execution_count": null,
      "outputs": []
    },
    {
      "cell_type": "code",
      "source": [
        "Write code to print all the pre-defined keywords in Python using the keyword library\n",
        "import keyword"
      ],
      "metadata": {
        "id": "Olnmxxng7BhF"
      },
      "execution_count": null,
      "outputs": []
    },
    {
      "cell_type": "code",
      "source": [
        "Write a program that checks if a given word is a Python keyword.\n",
        "import keyword\n",
        "Enter a word: for\n",
        "'for' is a Python keyword.\n",
        "\n",
        "Enter a word: hello\n",
        "'hello' is NOT a Python keyword.\n"
      ],
      "metadata": {
        "id": "L2BfSY-p7YhF"
      },
      "execution_count": null,
      "outputs": []
    },
    {
      "cell_type": "code",
      "source": [
        " Create a list and tuple in Python, and demonstrate how attempting to change an element works differently\n",
        "for each.\n",
        "my_list = [10, 20, 30]\n",
        "print(\"Original list:\", my_list)\n",
        "\n",
        "my_list[1] = 99\n",
        "print(\"Modified list:\", my_list)\n",
        "\n",
        "my_tuple = (10, 20, 30)\n",
        "print(\"Original tuple:\", my_tuple)\n",
        "\n",
        "try:\n",
        "    my_tuple[1] = 99\n",
        "except TypeError as e:\n",
        "    print(\"Error when trying to modify tuple:\", e)\n"
      ],
      "metadata": {
        "id": "hnKxjEdA72Zz"
      },
      "execution_count": null,
      "outputs": []
    },
    {
      "cell_type": "code",
      "source": [
        "Write a function to demonstrate the behavior of mutable and immutable arguments.\n",
        "def modify_arguments(a, b):\n",
        "    print(\"\\nInside function before modification:\")\n",
        "    print(\"a (immutable):\", a)\n",
        "    print(\"b (mutable):\", b)\n",
        "\n",
        "    a += 10        # This creates a new integer (immutable)\n",
        "    b.append(4)    # This modifies the original list (mutable)\n",
        "\n",
        "    print(\"\\nInside function after modification:\")\n",
        "    print(\"a (immutable):\", a)\n",
        "    print(\"b (mutable):\", b)\n",
        "\n",
        "x = 5\n",
        "\n",
        "y = [1, 2, 3]\n",
        "\n",
        "print(\"Before function call:\")\n",
        "print(\"x:\", x)\n",
        "print(\"y:\", y)\n",
        "\n",
        "modify_arguments(x, y)\n",
        "\n",
        "print(\"\\nAfter function call:\")\n",
        "print(\"x:\", x)  # Still 5\n",
        "print(\"y:\", y)  # Now [1, 2, 3, 4]\n"
      ],
      "metadata": {
        "id": "4R5gyO4E82fS"
      },
      "execution_count": null,
      "outputs": []
    },
    {
      "cell_type": "code",
      "source": [
        "Write a program that performs basic arithmetic operations on two user-input numbers.\n",
        "num1 = float(input(\"Enter the first number: \"))\n",
        "num2 = float(input(\"Enter the second number: \"))\n",
        "\n",
        "print(\"\\nResults:\")\n",
        "print(f\"Addition: {num1} + {num2} = {num1 + num2}\")\n",
        "print(f\"Subtraction: {num1} - {num2} = {num1 - num2}\")\n",
        "print(f\"Multiplication: {num1} * {num2} = {num1 * num2}\")\n",
        "\n",
        "if num2 != 0:\n",
        "    print(f\"Division: {num1} / {num2} = {num1 / num2}\")\n",
        "else:\n",
        "    print(\"Division: Cannot divide by zero.\")\n",
        "Example : Enter the first number: 10\n",
        "Enter the second number: 5\n",
        "\n",
        "Results:\n",
        "Addition: 10.0 + 5.0 = 15.0\n",
        "Subtraction: 10.0 - 5.0 = 5.0\n",
        "Multiplication: 10.0 * 5.0 = 50.0\n",
        "Division: 10.0 / 5.0 = 2.0\n"
      ],
      "metadata": {
        "id": "Qh-d50dI9RlD"
      },
      "execution_count": null,
      "outputs": []
    },
    {
      "cell_type": "code",
      "source": [
        "Write a program to demonstrate the use of logical operators\n",
        "a = input(\"Enter 'True' or 'False' for a: \") == \"True\"\n",
        "b = input(\"Enter 'True' or 'False' for b: \") == \"True\"\n",
        "\n",
        "print(\"\\nLogical Operator Results:\")\n",
        "print(f\"a and b = {a and b}\")   # True only if both are True\n",
        "print(f\"a or b = {a or b}\")     # True if at least one is True\n",
        "print(f\"not a = {not a}\")       # Reverses the value of a\n"
      ],
      "metadata": {
        "id": "nH3NPBcw96_m"
      },
      "execution_count": null,
      "outputs": []
    },
    {
      "cell_type": "code",
      "source": [
        " Write a Python program to convert user input from string to integer, float, and boolean types\n",
        "user_input = input(\"Enter something: \")\n",
        "\n",
        "try:\n",
        "    int_value = int(user_input)\n",
        "    print(f\"Integer conversion: {int_value}\")\n",
        "except ValueError:\n",
        "    print(\"Cannot convert to integer.\")\n",
        "\n",
        "try:\n",
        "    float_value = float(user_input)\n",
        "    print(f\"Float conversion: {float_value}\")\n",
        "except ValueError:\n",
        "    print(\"Cannot convert to float.\")\n",
        "\n",
        "bool_value = bool(user_input)\n",
        "print(f\"Boolean conversion: {bool_value}\")\n"
      ],
      "metadata": {
        "id": "PrN7KnXw-W80"
      },
      "execution_count": null,
      "outputs": []
    },
    {
      "cell_type": "code",
      "source": [
        "Write code to demonstrate type casting with list elements.\n",
        "string_list = [\"10\", \"20\", \"0\", \"35\"]\n",
        "\n",
        "print(\"Original list (strings):\", string_list)\n",
        "\n",
        "int_list = [int(x) for x in string_list]\n",
        "print(\"Converted to integers:\", int_list)\n",
        "\n",
        "float_list = [float(x) for x in string_list]\n",
        "print(\"Converted to floats:\", float_list)\n",
        "\n",
        "bool_list = [bool(int(x)) for x in string_list]  # Convert to int first, then to bool\n",
        "print(\"Converted to booleans:\", bool_list)\n"
      ],
      "metadata": {
        "id": "a67SNwEi-l4d"
      },
      "execution_count": null,
      "outputs": []
    },
    {
      "cell_type": "code",
      "source": [
        "Write a program that checks if a number is positive, negative, or zero.\n",
        "num = float(input(\"Enter a number: \"))\n",
        "if num > 0:\n",
        "    print(\"The number is positive.\")\n",
        "elif num < 0:\n",
        "    print(\"The number is negative.\")\n",
        "else:\n",
        "    print(\"The number is zero.\")\n",
        "\n"
      ],
      "metadata": {
        "id": "oIziXTJz-3DY"
      },
      "execution_count": null,
      "outputs": []
    },
    {
      "cell_type": "code",
      "source": [
        "Write a for loop to print numbers from 1 to 10.\n",
        "for i in range(1, 11):\n",
        "    print(i)\n",
        ""
      ],
      "metadata": {
        "id": "QKQbon61_I7m"
      },
      "execution_count": null,
      "outputs": []
    },
    {
      "cell_type": "code",
      "source": [
        " Write a Python program to find the sum of all even numbers between 1 and 50\n",
        "sum_even = 0\n",
        "\n",
        "for i in range(1, 51):\n",
        "    if i % 2 == 0:  # Check if the number is even\n",
        "        sum_even += i\n",
        "\n",
        "print(\"The sum of all even numbers between 1 and 50 is:\", sum_even)\n"
      ],
      "metadata": {
        "id": "u8DFm_vH_aWw"
      },
      "execution_count": null,
      "outputs": []
    },
    {
      "cell_type": "code",
      "source": [
        "Write a program to reverse a string using a while loop.\n",
        "user_input = input(\"Enter a string: \")\n",
        "\n",
        "reversed_str = \"\"\n",
        "index = len(user_input) - 1\n",
        "\n",
        "while index >= 0:\n",
        "    reversed_str += user_input[index]\n",
        "    index -= 1\n",
        "\n",
        "print(\"Reversed string:\", reversed_str)\n"
      ],
      "metadata": {
        "id": "GyYkv-Rc_m-9"
      },
      "execution_count": null,
      "outputs": []
    },
    {
      "cell_type": "code",
      "source": [
        " Write a Python program to calculate the factorial of a number provided by the user using a while loop.\n",
        "num = int(input(\"Enter a number: \"))\n",
        "\n",
        "factorial = 1\n",
        "i = 1\n",
        "\n",
        "while i <= num:\n",
        "    factorial *= i  # Multiply current factorial by i\n",
        "    i += 1  # Increment i\n",
        "\n",
        "# Print the result\n",
        "print(f\"The factorial of {num} is: {factorial}\")\n"
      ],
      "metadata": {
        "id": "r45SztHa-SAN"
      },
      "execution_count": null,
      "outputs": []
    },
    {
      "cell_type": "markdown",
      "source": [
        "#Theories\n",
        "1. What is Python, and why is it popular?\n",
        "  * Python is a programming language that is easy to understand and write, to create instructions for a computer to follow.\n",
        "  Why is is populer : It has a lot of libraries, Widely used in dta industry, Used for front end and back end data analyzing, Used for Automation, Image processing, It is compatible with various programming paradigms, such as procedural, object-oriented, and functional programming.\n",
        "2. What is an interpreter in Python?\n",
        "  * An interpreter in Python is a program that reads and executes Python code line by line. Instead of compiling the entire code into machine language at once (like a compiler), the interpreter translates and runs it step-by-step.\n",
        "3. What are pre-defined keywords in Python?\n",
        "  * if, else, while, for, def, class, import, try, except, return, True, False, None, etc are the pre-difined keywords of python.\n",
        "4. Can keywords be used as variable names?\n",
        "  * Keywords are reserved words in Python that have special meanings and cannot be used as variable name.\n",
        "5. What is mutability in Python?\n",
        "  * Mutability means in python that a object or container whose state or value can be changed after they are created.\n",
        "6. Why are lists mutable, but tuples are immutable?\n",
        "  * Lists mutable, but tuples are immutable because list supports items assignment but strings or tupples doesn't support item asssignment.\n",
        "7. What is the difference between “==” and “is” operators in Python\n",
        "\"==\" is a Comparison operator that compares two values equalities, whareas \"is\" is Identity operator that compares the location of two objects memory.\n",
        "8. What are logical operators in Python?\n",
        "  * 'And','Not' and 'Or' are the logical operators in python.\n",
        "9. What is type casting in Python?\n",
        "  * Type casting referred to as type conversion, is the process of changing one data type to another in Python.\n",
        "10. What is the difference between implicit and explicit type casting?\n",
        "  * Implicite type casting means automatic, python understand the data type andython does it automatically when it's safe—no code from our end needed.\n",
        "  Explicite type casting means manually, convert data type using in built functions like string or tupple, integrate, float, boolean values.\n",
        "11. What is the purpose of conditional statements in Python?\n",
        "  * The purpose of conditional statements in Python is to let your code make decisions and take different paths based on conditions.\n",
        "12. How does the elif statement work?\n",
        "  * Python checks conditions top to bottom: If the \"if\" condition is True, it runs that block and skips the rest. If not, it checks each \"elif\" in order. If none of the \"if\" or \"elif\" conditions are true, it runs the else block (if present).\n",
        "13. What is the difference between for and while loops?\n",
        "  * “for” loops are used for iterating over a sequence of elements, while “while” loops are used for executing code until a specified condition becomes False.\n",
        "14. Describe a scenario where a while loop is more suitable than a for loop.\n",
        "  * User login system - You want to keep asking the user for a password until they get it right, you don’t know how many tries they’ll need — could be 1, 5, or 100. So, a while loop is perfect here.\n",
        "  Why is while better here?\n",
        "  You don't know how many times the loop will run. The loop depends on a condition not a fixed number of iterations."
      ],
      "metadata": {
        "id": "lyUGnXtdp_yP"
      }
    },
    {
      "cell_type": "markdown",
      "source": [],
      "metadata": {
        "id": "lH5OIZ5wp8Xu"
      }
    }
  ]
}